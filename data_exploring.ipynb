{
 "cells": [
  {
   "cell_type": "code",
   "execution_count": null,
   "metadata": {},
   "outputs": [],
   "source": []
  },
  {
   "cell_type": "markdown",
   "metadata": {},
   "source": [
    "Use RFE to find effective features"
   ]
  },
  {
   "cell_type": "code",
   "execution_count": null,
   "metadata": {},
   "outputs": [],
   "source": [
    "# minmaxscaler and fillna\n",
    "import pandas as pd\n",
    "import numpy as np\n",
    "from sklearn.feature_selection import RFECV\n",
    "from sklearn.svm import SVR\n",
    "from sklearn.model_selection import train_test_split\n",
    "from sklearn.preprocessing import MinMaxScaler\n",
    "from time import sleep\n",
    "from os import listdir\n",
    "from os.path import isfile, join\n",
    "\n",
    "processedList = []\n",
    "\n",
    "loadPath = 'yourloadpath'\n",
    "savePath = 'yoursavepath'\n",
    "\n",
    "# fileList = [f for f in listdir(loadPath) if isfile(join(loadPath, f))]\n",
    "\n",
    "fileList = ['002645.SZ.csv']\n",
    "\n",
    "scaler = MinMaxScaler(feature_range=(0, 1))\n",
    "\n",
    "for f in fileList:\n",
    "    fileName = loadPath + f\n",
    "    data = pd.read_csv(fileName)\n",
    "    \n",
    "    y = data['up_down'].iloc[10:].values.tolist()\n",
    "    X = data.iloc[10:,2:27].copy() # To avoid the case where changing X also changes data, 2 to 27\n",
    "    X.fillna(0, inplace=True)\n",
    "    X = scaler.fit_transform(X)\n",
    "    \n",
    "#     X, y =  "
   ]
  },
  {
   "cell_type": "code",
   "execution_count": null,
   "metadata": {},
   "outputs": [],
   "source": [
    "estimator = SVR(kernel=\"linear\")\n",
    "selector = RFECV(estimator, step=1, cv=5)\n",
    "selector = selector.fit(X, y)"
   ]
  },
  {
   "cell_type": "code",
   "execution_count": null,
   "metadata": {},
   "outputs": [],
   "source": [
    "selector.support_"
   ]
  },
  {
   "cell_type": "code",
   "execution_count": null,
   "metadata": {},
   "outputs": [],
   "source": [
    "cut_na = selector.ranking_"
   ]
  },
  {
   "cell_type": "code",
   "execution_count": null,
   "metadata": {},
   "outputs": [],
   "source": [
    "cut_na"
   ]
  },
  {
   "cell_type": "code",
   "execution_count": null,
   "metadata": {},
   "outputs": [],
   "source": [
    "fill_na"
   ]
  },
  {
   "cell_type": "markdown",
   "metadata": {},
   "source": [
    "MINMAXSCALER"
   ]
  },
  {
   "cell_type": "code",
   "execution_count": null,
   "metadata": {},
   "outputs": [],
   "source": [
    "# minmaxscaler and fillna\n",
    "import pandas as pd\n",
    "import numpy as np\n",
    "from sklearn.feature_selection import RFECV\n",
    "from sklearn.svm import SVR\n",
    "from sklearn.model_selection import train_test_split\n",
    "from sklearn.preprocessing import MinMaxScaler\n",
    "from time import sleep\n",
    "from os import listdir\n",
    "from os.path import isfile, join\n",
    "\n",
    "processedList = []\n",
    "\n",
    "loadPath = 'yourloadpath'\n",
    "savePath = 'yoursavepath'\n",
    "\n",
    "# fileList = [f for f in listdir(loadPath) if isfile(join(loadPath, f))]\n",
    "\n",
    "fileList = ['002645.SZ.csv']\n",
    "\n",
    "scaler = MinMaxScaler(feature_range=(0, 1))\n",
    "\n",
    "for f in fileList:\n",
    "    fileName = loadPath + f\n",
    "    data = pd.read_csv(fileName)\n",
    "    \n",
    "    y = data['up_down'].iloc[10:].values.tolist()\n",
    "    X = data.iloc[10:,2:27].copy() # To avoid the case where changing X also changes data, 2 to 27\n",
    "    X.fillna(0, inplace=True)\n",
    "    X = scaler.fit_transform(X)"
   ]
  },
  {
   "cell_type": "code",
   "execution_count": null,
   "metadata": {},
   "outputs": [],
   "source": [
    "estimator = SVR(kernel=\"linear\")\n",
    "selector = RFECV(estimator, step=1, cv=5)\n",
    "selector = selector.fit(X, y)"
   ]
  },
  {
   "cell_type": "code",
   "execution_count": null,
   "metadata": {},
   "outputs": [],
   "source": [
    "selector.support_"
   ]
  },
  {
   "cell_type": "code",
   "execution_count": null,
   "metadata": {},
   "outputs": [],
   "source": [
    "selector.ranking_"
   ]
  },
  {
   "cell_type": "code",
   "execution_count": null,
   "metadata": {},
   "outputs": [],
   "source": []
  },
  {
   "cell_type": "markdown",
   "metadata": {},
   "source": [
    "### RFE test method 1: run RFE for each stock then rank the features"
   ]
  },
  {
   "cell_type": "code",
   "execution_count": null,
   "metadata": {},
   "outputs": [],
   "source": [
    "# Copy paste test section\n",
    "# minmaxscaler and fillna\n",
    "import pandas as pd\n",
    "import numpy as np\n",
    "from sklearn.feature_selection import RFECV\n",
    "from sklearn.svm import SVR\n",
    "from sklearn.model_selection import train_test_split\n",
    "from sklearn.preprocessing import MinMaxScaler\n",
    "from time import sleep\n",
    "from os import listdir\n",
    "from os.path import isfile, join\n",
    "from tempfile import TemporaryFile\n",
    "\n",
    "processedList = []\n",
    "errorList = []\n",
    "# outfile = TemporaryFile()\n",
    "\n",
    "loadPath = 'yourloadpath'\n",
    "savePath = 'yoursavepath'\n",
    "\n",
    "fileList = [f for f in listdir(loadPath) if isfile(join(loadPath, f))]\n",
    "\n",
    "# fileList = ['002645.SZ.csv', '002114.SZ.csv', '603032.SH.csv']\n",
    "\n",
    "scaler = MinMaxScaler(feature_range=(0, 1))\n",
    "a_s = np.zeros([1, 49]) # calculated according to X shape\n",
    "a_r = np.zeros([1, 49]) # calculated according to X shape\n",
    "\n",
    "for f in fileList:\n",
    "    fileName = loadPath + f\n",
    "    data = pd.read_csv(fileName)\n",
    "    data = data.replace([np.inf, -np.inf], 0)\n",
    "    \n",
    "#     #debug\n",
    "#     fileName = savePath + f\n",
    "#     data.to_csv(fileName, encoding = 'utf-8', index = False)\n",
    "    \n",
    "    y = data['up_down'].values.tolist()\n",
    "    X = data.iloc[:,7:56].copy() # To avoid the case where changing X also changes data, 2 to 27\n",
    "    X.fillna(0, inplace=True)\n",
    "    \n",
    "    try:\n",
    "        X = scaler.fit_transform(X)\n",
    "\n",
    "        estimator = SVR(kernel=\"linear\")\n",
    "        selector = RFECV(estimator, step=1, cv=5)\n",
    "        selector = selector.fit(X, y)\n",
    "        \n",
    "        condition = selector.support_\n",
    "\n",
    "        if len(condition)%49 == 0:\n",
    "            a_s = np.append(a_s, selector.support_)\n",
    "            a_r = np.append(a_r, selector.ranking_)\n",
    "            \n",
    "            np.save(savePath+'a_s.npy', a_s)\n",
    "            np.save(savePath+'a_r.npy', a_r)\n",
    "            \n",
    "            processedList.append(f)\n",
    "        else:\n",
    "            errorList.append(f)\n",
    "    except:\n",
    "        errorList.append(f)\n",
    "\n",
    "# feature ranking array\n",
    "shape_row = len(processedList) + 1\n",
    "\n",
    "a_s = a_s.reshape(shape_row, 49)  # calculated according to X shape\n",
    "a_r = a_r.reshape(shape_row, 49)\n",
    "\n",
    "a_s = np.delete(a_s, (0), axis=0) # delete first row\n",
    "a_r = np.delete(a_r, (0), axis=0) # delete first row"
   ]
  },
  {
   "cell_type": "code",
   "execution_count": null,
   "metadata": {},
   "outputs": [],
   "source": [
    "# save errorlist to txt file\n",
    "with open('errorlist.txt', 'w') as f:\n",
    "    for item in errorList:\n",
    "        f.write(\"%s\\n\" % item)"
   ]
  },
  {
   "cell_type": "code",
   "execution_count": null,
   "metadata": {},
   "outputs": [],
   "source": [
    "np.sum(a_s, axis=0) #the higher the better"
   ]
  },
  {
   "cell_type": "code",
   "execution_count": null,
   "metadata": {},
   "outputs": [],
   "source": [
    "np.sum(a_r, axis=0) #the lower the better"
   ]
  },
  {
   "cell_type": "code",
   "execution_count": null,
   "metadata": {},
   "outputs": [],
   "source": [
    "data.columns"
   ]
  },
  {
   "cell_type": "code",
   "execution_count": null,
   "metadata": {},
   "outputs": [],
   "source": [
    "selector.score(X,y)"
   ]
  },
  {
   "cell_type": "code",
   "execution_count": null,
   "metadata": {},
   "outputs": [],
   "source": [
    "# plot\n",
    "import matplotlib.pyplot as plt\n",
    "\n",
    "plt.figure()\n",
    "plt.xlabel(\"Number of features selected\")\n",
    "plt.ylabel(\"Cross validation score (nb of correct classifications)\")\n",
    "plt.plot(range(1, len(selector.grid_scores_) + 1), selector.grid_scores_)\n",
    "plt.show()"
   ]
  },
  {
   "cell_type": "markdown",
   "metadata": {},
   "source": [
    "### RFE test method 2: preprocess data into one dataframe and run RFE for the large dataframe once and rank \n",
    "### Not working very well, too slow for training the model"
   ]
  },
  {
   "cell_type": "code",
   "execution_count": null,
   "metadata": {},
   "outputs": [],
   "source": [
    "# Copy paste test section\n",
    "# minmaxscaler and fillna\n",
    "import pandas as pd\n",
    "import numpy as np\n",
    "from sklearn.feature_selection import RFECV\n",
    "from sklearn.svm import SVR\n",
    "from sklearn.model_selection import train_test_split\n",
    "from sklearn.preprocessing import MinMaxScaler\n",
    "from time import sleep\n",
    "from os import listdir\n",
    "from os.path import isfile, join\n",
    "from tempfile import TemporaryFile\n",
    "\n",
    "processedList = []\n",
    "errorList = []\n",
    "# outfile = TemporaryFile()\n",
    "\n",
    "loadPath = 'yourloadpath'\n",
    "savePath = 'yoursavepath'\n",
    "\n",
    "fileList = [f for f in listdir(loadPath) if isfile(join(loadPath, f))]\n",
    "\n",
    "# fileList = ['002645.SZ.csv', '002114.SZ.csv', '603032.SH.csv']\n",
    "\n",
    "\n",
    "data_new = pd.DataFrame()\n",
    "\n",
    "for f in fileList:\n",
    "    fileName = loadPath + f\n",
    "    data = pd.read_csv(fileName)\n",
    "    data = data.replace([np.inf, -np.inf], 0)\n",
    "    \n",
    "    data_new = data_new.append(data)\n",
    "    \n",
    "    processedList.append(f)\n",
    "    if len(processedList)%500 == 0:\n",
    "        fileName = savePath + str(len(processedList)) + '.csv'\n",
    "        data_new.to_csv(fileName, encoding = 'utf-8', index = False)\n",
    "        data_new = pd.DataFrame()\n",
    "        \n",
    "    \n",
    "#     #debug\n",
    "#     fileName = savePath + f\n",
    "#     data.to_csv(fileName, encoding = 'utf-8', index = False)\n",
    "    \n"
   ]
  },
  {
   "cell_type": "code",
   "execution_count": null,
   "metadata": {},
   "outputs": [],
   "source": [
    "# Follow a section of combining all seperated files"
   ]
  },
  {
   "cell_type": "code",
   "execution_count": null,
   "metadata": {},
   "outputs": [],
   "source": [
    "scaler = MinMaxScaler(feature_range=(0, 1))\n",
    "\n",
    "loadPath = 'yourloadpath'\n",
    "savePath = 'yoursavepath'\n",
    "\n",
    "fileName = loadPath + '3500combine.csv'\n",
    "data = pd.read_csv(fileName)\n",
    "\n",
    "y = data['up_down'].values.tolist()\n",
    "X = data.iloc[:,7:56].copy() # To avoid the case where changing X also changes data, 2 to 27\n",
    "X.fillna(0, inplace=True)\n",
    "    \n",
    "\n",
    "X = scaler.fit_transform(X)\n",
    "\n",
    "estimator = SVR(kernel=\"linear\")\n",
    "selector = RFECV(estimator, step=1, cv=5)\n",
    "selector = selector.fit(X, y)\n",
    "\n",
    "a_s = selector.support_\n",
    "a_r = selector.ranking_"
   ]
  },
  {
   "cell_type": "code",
   "execution_count": null,
   "metadata": {},
   "outputs": [],
   "source": [
    "l = ['ts_code', 'trade_date', 'open', 'high', 'low', 'close', 'pre_close']\n",
    "\n",
    "mid = data[['ts_code', 'trade_date', 'open', 'high', 'low', 'close', 'pre_close']]\n",
    "data.drop(labels=['ts_code', 'trade_date', 'open', 'high', 'low', 'close', 'pre_close'], axis=1,inplace = True)\n",
    "\n",
    "for i in l:\n",
    "    data.insert(0, i, mid[i])"
   ]
  },
  {
   "cell_type": "code",
   "execution_count": null,
   "metadata": {},
   "outputs": [],
   "source": []
  },
  {
   "cell_type": "markdown",
   "metadata": {},
   "source": [
    "### RFE test method 3: move the labels one day ahead, use today indices to predict tomorrow label"
   ]
  },
  {
   "cell_type": "code",
   "execution_count": null,
   "metadata": {},
   "outputs": [],
   "source": [
    "# Copy paste test section\n",
    "# minmaxscaler and fillna\n",
    "import pandas as pd\n",
    "import numpy as np\n",
    "from sklearn.feature_selection import RFECV\n",
    "from sklearn.svm import SVR\n",
    "from sklearn.model_selection import train_test_split\n",
    "from sklearn.preprocessing import MinMaxScaler\n",
    "from time import sleep\n",
    "from os import listdir\n",
    "from os.path import isfile, join\n",
    "from tempfile import TemporaryFile\n",
    "\n",
    "processedList = []\n",
    "errorList = []\n",
    "# outfile = TemporaryFile()\n",
    "\n",
    "loadPath = '/Users/jenieshen/Study/graduateThesis/Project/data/processed/Structure/'\n",
    "savePath = '/Users/jenieshen/Study/graduateThesis/Project/data/processed/normalization/'\n",
    "\n",
    "fileList = [f for f in listdir(loadPath) if isfile(join(loadPath, f))]\n",
    "\n",
    "# fileList = ['002645.SZ.csv', '002114.SZ.csv', '603032.SH.csv']\n",
    "\n",
    "scaler = MinMaxScaler(feature_range=(0, 1))\n",
    "a_s = np.zeros([1, 55]) # calculated according to X shape\n",
    "a_r = np.zeros([1, 55]) # calculated according to X shape\n",
    "\n",
    "for f in fileList:\n",
    "    fileName = loadPath + f\n",
    "    data = pd.read_csv(fileName)\n",
    "    data = data.replace([np.inf, -np.inf], 0)\n",
    "    \n",
    "#     #debug\n",
    "#     fileName = savePath + f\n",
    "#     data.to_csv(fileName, encoding = 'utf-8', index = False)\n",
    "    \n",
    "    y = data['up_down'].values.tolist()\n",
    "    X = data.iloc[:,1:56].copy() # To avoid the case where changing X also changes data, only excluded the ts code and trading date\n",
    "    X.fillna(0, inplace=True)\n",
    "    X = X.values\n",
    "    \n",
    "    y0 = np.zeros([1,1])\n",
    "    y = np.append(y, y0)  # add a 0 at the end of label and pop all label up one day, use today data to predict tomorrow result\n",
    "    y = np.delete(y, (0), axis=0) # delete first row to ensure the lenth is correct\n",
    "    \n",
    "    X = X[:-1, :]  # delete the last row of X because the last row of indices are correspoinding to y0\n",
    "    y = y[:-1]  # delete the last row of y because the last row of label is y0\n",
    "    \n",
    "    try:\n",
    "        X = scaler.fit_transform(X)\n",
    "\n",
    "        estimator = SVR(kernel=\"linear\")\n",
    "        selector = RFECV(estimator, step=1, cv=5)\n",
    "        selector = selector.fit(X, y)\n",
    "        \n",
    "        condition = selector.support_\n",
    "\n",
    "        if len(condition)%55 == 0:\n",
    "            a_s = np.vstack((a_s, selector.support_))\n",
    "            a_r = np.vstack((a_r, selector.ranking_))\n",
    "            \n",
    "            np.save(savePath+'a_s_ahead.npy', a_s)\n",
    "            np.save(savePath+'a_r_ahead.npy', a_r)\n",
    "            \n",
    "            processedList.append(f)\n",
    "        else:\n",
    "            errorList.append(f)\n",
    "    except:\n",
    "        errorList.append(f)\n",
    "\n",
    "# feature ranking array\n",
    "\n",
    "a_s = np.delete(a_s, (0), axis=0) # delete first row\n",
    "a_r = np.delete(a_r, (0), axis=0) # delete first row"
   ]
  },
  {
   "cell_type": "code",
   "execution_count": null,
   "metadata": {},
   "outputs": [],
   "source": [
    "# save errorlist to txt file\n",
    "with open('errorlist.txt', 'w') as f:\n",
    "    for item in errorList:\n",
    "        f.write(\"%s\\n\" % item)"
   ]
  },
  {
   "cell_type": "code",
   "execution_count": null,
   "metadata": {},
   "outputs": [],
   "source": [
    "np.sum(a_s, axis=0) #the higher the better"
   ]
  },
  {
   "cell_type": "code",
   "execution_count": null,
   "metadata": {},
   "outputs": [],
   "source": [
    "np.sum(a_r, axis=0) #the lower the better"
   ]
  },
  {
   "cell_type": "code",
   "execution_count": null,
   "metadata": {},
   "outputs": [],
   "source": [
    "data.columns"
   ]
  },
  {
   "cell_type": "code",
   "execution_count": null,
   "metadata": {},
   "outputs": [],
   "source": [
    "idxnameList = data.columns[2:57].tolist()\n",
    "idxsptList = np.sum(a_s, axis=0).tolist()\n",
    "idxrkList = np.sum(a_r, axis=0).tolist()"
   ]
  },
  {
   "cell_type": "code",
   "execution_count": null,
   "metadata": {},
   "outputs": [],
   "source": [
    "df_RFE = pd.DataFrame(\n",
    "    {'Name': idxnameList,\n",
    "     'Support': idxsptList,\n",
    "     'Rank': idxrkList\n",
    "    })"
   ]
  },
  {
   "cell_type": "code",
   "execution_count": null,
   "metadata": {},
   "outputs": [],
   "source": [
    "df_RFE.sort_values('Rank')\n",
    "temp = df_RFE.sort_values('Rank')['Name'].tolist()\n",
    "temp[0:15]"
   ]
  },
  {
   "cell_type": "code",
   "execution_count": null,
   "metadata": {},
   "outputs": [],
   "source": [
    "df_RFE.sort_values('Support')\n",
    "temp = df_RFE.sort_values('Support', ascending = False)['Name'].tolist()\n",
    "temp[0:15]"
   ]
  },
  {
   "cell_type": "code",
   "execution_count": null,
   "metadata": {},
   "outputs": [],
   "source": [
    "df_RFE.sort_values('Support', ascending = False)"
   ]
  },
  {
   "cell_type": "code",
   "execution_count": null,
   "metadata": {},
   "outputs": [],
   "source": [
    "selector.score(X,y)"
   ]
  },
  {
   "cell_type": "code",
   "execution_count": null,
   "metadata": {},
   "outputs": [],
   "source": [
    "# plot\n",
    "import matplotlib.pyplot as plt\n",
    "\n",
    "plt.figure()\n",
    "plt.xlabel(\"Number of features selected\")\n",
    "plt.ylabel(\"Cross validation score (nb of correct classifications)\")\n",
    "plt.plot(range(1, len(selector.grid_scores_) + 1), selector.grid_scores_)\n",
    "plt.show()"
   ]
  },
  {
   "cell_type": "code",
   "execution_count": null,
   "metadata": {},
   "outputs": [],
   "source": []
  },
  {
   "cell_type": "markdown",
   "metadata": {},
   "source": [
    "### RFE test method 4: use today indices to predict the price is higher or lower than one week before, 4th day index predict p_c comparison of 5th day and 1st day"
   ]
  },
  {
   "cell_type": "code",
   "execution_count": null,
   "metadata": {},
   "outputs": [],
   "source": [
    "# Copy paste test section\n",
    "# minmaxscaler and fillna\n",
    "import pandas as pd\n",
    "import numpy as np\n",
    "from sklearn.feature_selection import RFECV\n",
    "from sklearn.svm import SVR\n",
    "from sklearn.model_selection import train_test_split\n",
    "from sklearn.preprocessing import MinMaxScaler\n",
    "from time import sleep\n",
    "from os import listdir\n",
    "from os.path import isfile, join\n",
    "from tempfile import TemporaryFile\n",
    "\n",
    "processedList = []\n",
    "errorList = []\n",
    "# outfile = TemporaryFile()\n",
    "\n",
    "loadPath = 'yourloadpath'\n",
    "savePath = 'yoursavepath'\n",
    "\n",
    "fileList = [f for f in listdir(loadPath) if isfile(join(loadPath, f))]\n",
    "\n",
    "# fileList = ['002645.SZ.csv', '002114.SZ.csv', '603032.SH.csv']\n",
    "\n",
    "scaler = MinMaxScaler(feature_range=(0, 1))\n",
    "a_s = np.zeros([1, 56]) # calculated according to X shape\n",
    "a_r = np.zeros([1, 56]) # calculated according to X shape\n",
    "\n",
    "for f in fileList:\n",
    "    fileName = loadPath + f\n",
    "    data = pd.read_csv(fileName)\n",
    "    data = data.replace([np.inf, -np.inf], 0)\n",
    "    \n",
    "#     #debug\n",
    "#     fileName = savePath + f\n",
    "#     data.to_csv(fileName, encoding = 'utf-8', index = False)\n",
    "    \n",
    "    y = data['w_up_down'].values.tolist()\n",
    "    X = data.iloc[:,2:58].copy() # To avoid the case where changing X also changes data, only excluded the ts code and trading date\n",
    "    X.fillna(0, inplace=True)\n",
    "    X = X.values\n",
    "    \n",
    "    y0 = np.zeros([1,1])\n",
    "    y = np.append(y, y0)  # add a 0 at the end of label and pop all label up one day, use today data to predict tomorrow result\n",
    "    y = np.delete(y, (0), axis=0) # delete first row to ensure the lenth is correct\n",
    "    \n",
    "    X = X[:-1, :]  # delete the last row of X because the last row of indices are correspoinding to y0\n",
    "    y = y[:-1]  # delete the last row of y because the last row of label is y0\n",
    "    \n",
    "    try:\n",
    "        X = scaler.fit_transform(X)\n",
    "\n",
    "        estimator = SVR(kernel=\"linear\")\n",
    "        selector = RFECV(estimator, step=1, cv=5)\n",
    "        selector = selector.fit(X, y)\n",
    "        \n",
    "        condition = selector.support_\n",
    "\n",
    "        if len(condition)%56 == 0:\n",
    "            a_s = np.vstack((a_s, selector.support_))\n",
    "            a_r = np.vstack((a_r, selector.ranking_))\n",
    "            \n",
    "            np.save(savePath+'a_s_weekly.npy', a_s)\n",
    "            np.save(savePath+'a_r_weekly.npy', a_r)\n",
    "            \n",
    "            processedList.append(f)\n",
    "        else:\n",
    "            errorList.append(f)\n",
    "    except:\n",
    "        errorList.append(f)\n",
    "\n",
    "# feature ranking array\n",
    "\n",
    "a_s = np.delete(a_s, (0), axis=0) # delete first row\n",
    "a_r = np.delete(a_r, (0), axis=0) # delete first row"
   ]
  },
  {
   "cell_type": "code",
   "execution_count": null,
   "metadata": {},
   "outputs": [],
   "source": [
    "data.columns[2:58]"
   ]
  },
  {
   "cell_type": "code",
   "execution_count": null,
   "metadata": {},
   "outputs": [],
   "source": [
    "idxnameList = data.columns[2:58].tolist()\n",
    "idxsptList = np.sum(a_s, axis=0).tolist()\n",
    "idxrkList = np.sum(a_r, axis=0).tolist()"
   ]
  },
  {
   "cell_type": "code",
   "execution_count": null,
   "metadata": {},
   "outputs": [],
   "source": [
    "df_RFE = pd.DataFrame(\n",
    "    {'Name': idxnameList,\n",
    "     'Support': idxsptList,\n",
    "     'Rank': idxrkList\n",
    "    })"
   ]
  },
  {
   "cell_type": "code",
   "execution_count": null,
   "metadata": {},
   "outputs": [],
   "source": [
    "df_RFE.sort_values('Rank')\n",
    "temp = df_RFE.sort_values('Rank')['Name'].tolist()\n",
    "temp[0:15]"
   ]
  },
  {
   "cell_type": "code",
   "execution_count": null,
   "metadata": {},
   "outputs": [],
   "source": [
    "df_RFE.sort_values('Support')\n",
    "temp = df_RFE.sort_values('Support', ascending = False)['Name'].tolist()\n",
    "temp[0:15]"
   ]
  },
  {
   "cell_type": "code",
   "execution_count": null,
   "metadata": {},
   "outputs": [],
   "source": [
    "# plot\n",
    "import matplotlib.pyplot as plt\n",
    "\n",
    "plt.figure()\n",
    "plt.xlabel(\"Number of features selected\")\n",
    "plt.ylabel(\"Cross validation score (nb of correct classifications)\")\n",
    "plt.plot(range(1, len(selector.grid_scores_) + 1), selector.grid_scores_)\n",
    "plt.show()"
   ]
  },
  {
   "cell_type": "code",
   "execution_count": null,
   "metadata": {},
   "outputs": [],
   "source": [
    "df_RFE"
   ]
  }
 ],
 "metadata": {
  "kernelspec": {
   "display_name": "Python 3",
   "language": "python",
   "name": "python3"
  },
  "language_info": {
   "codemirror_mode": {
    "name": "ipython",
    "version": 3
   },
   "file_extension": ".py",
   "mimetype": "text/x-python",
   "name": "python",
   "nbconvert_exporter": "python",
   "pygments_lexer": "ipython3",
   "version": "3.6.4"
  }
 },
 "nbformat": 4,
 "nbformat_minor": 2
}
